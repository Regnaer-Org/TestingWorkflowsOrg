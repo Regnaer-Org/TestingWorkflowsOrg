{
 "cells": [
  {
   "cell_type": "markdown",
   "metadata": {},
   "source": [
    "# Interactive Databricks Table Editor with ipyaggrid\n",
    "\n",
    "This notebook demonstrates how to create an interactive editor for Databricks tables using ipyaggrid with custom editors for different column types."
   ]
  },
  {
   "cell_type": "markdown",
   "metadata": {},
   "source": [
    "## Install Required Packages\n",
    "\n",
    "First, let's install the necessary packages:"
   ]
  },
  {
   "cell_type": "code",
   "execution_count": null,
   "metadata": {},
   "outputs": [],
   "source": [
    "%pip install ipyaggrid==0.3.0 pandas==1.5.3 pyspark==3.4.0"
   ]
  },
  {
   "cell_type": "markdown",
   "metadata": {},
   "source": [
    "## Import Libraries"
   ]
  },
  {
   "cell_type": "code",
   "execution_count": null,
   "metadata": {},
   "outputs": [],
   "source": [
    "import pandas as pd\n",
    "import numpy as np\n",
    "import json\n",
    "import time\n",
    "from datetime import datetime\n",
    "from ipyaggrid import Grid\n",
    "import ipywidgets as widgets\n",
    "from IPython.display import display, Javascript, HTML\n",
    "from pyspark.sql import SparkSession\n",
    "from pyspark.sql import functions as F"
   ]
  },
  {
   "cell_type": "markdown",
   "metadata": {},
   "source": [
    "## Configure Spark Session"
   ]
  },
  {
   "cell_type": "code",
   "execution_count": null,
   "metadata": {},
   "outputs": [],
   "source": [
    "# Get existing SparkSession\n",
    "spark = SparkSession.builder.getOrCreate()"
   ]
  },
  {
   "cell_type": "markdown",
   "metadata": {},
   "source": [
    "## Define Table Configuration"
   ]
  },
  {
   "cell_type": "code",
   "execution_count": null,
   "metadata": {},
   "outputs": [],
   "source": [
    "# Table configuration\n",
    "TABLE_NAME = \"default.your_table_name\"  # Replace with your table name\n",
    "\n",
    "# Define which columns to display and their types\n",
    "COLUMN_CONFIG = {\n",
    "    \"id\": {\"editable\": False},  # Non-editable column (primary key)\n",
    "    \"name\": {\"editable\": True},  # Simple editable text field\n",
    "    \"status\": {  # Dropdown selection\n",
    "        \"editable\": True,\n",
    "        \"cellEditor\": \"agSelectCellEditor\",\n",
    "        \"cellEditorParams\": {\n",
    "            \"values\": [\"Active\", \"Inactive\", \"Pending\", \"Completed\"]\n",
    "        }\n",
    "    },\n",
    "    \"priority\": {  # Another dropdown\n",
    "        \"editable\": True,\n",
    "        \"cellEditor\": \"agSelectCellEditor\",\n",
    "        \"cellEditorParams\": {\n",
    "            \"values\": [\"Low\", \"Medium\", \"High\", \"Critical\"]\n",
    "        }\n",
    "    },\n",
    "    \"due_date\": {  # Date picker\n",
    "        \"editable\": True,\n",
    "        \"cellEditor\": \"agDateCellEditor\",\n",
    "        \"valueFormatter\": \"d3.timeFormat('%Y-%m-%d')(new Date(data.due_date))\"\n",
    "    },\n",
    "    \"notes\": {\"editable\": True}  # Simple editable text field\n",
    "}\n",
    "\n",
    "# List of columns to include\n",
    "COLUMNS_TO_INCLUDE = list(COLUMN_CONFIG.keys())"
   ]
  },
  {
   "cell_type": "markdown",
   "metadata": {},
   "source": [
    "## Data Loading Function"
   ]
  },
  {
   "cell_type": "code",
   "execution_count": null,
   "metadata": {},
   "outputs": [],
   "source": [
    "def load_table_data():\n",
    "    \"\"\"\n",
    "    Load data from Databricks table into a pandas DataFrame\n",
    "    \"\"\"\n",
    "    # Read only the columns we need\n",
    "    spark_df = spark.sql(f\"SELECT {', '.join(COLUMNS_TO_INCLUDE)} FROM {TABLE_NAME}\")\n",
    "    \n",
    "    # Convert to Pandas - limit rows if needed for better performance\n",
    "    # pandas_df = spark_df.limit(1000).toPandas()  # Uncomment to limit rows\n",
    "    pandas_df = spark_df.toPandas()\n",
    "    \n",
    "    # Convert date columns to string for better compatibility with ipyaggrid\n",
    "    for col in pandas_df.columns:\n",
    "        if pandas_df[col].dtype == 'datetime64[ns]':\n",
    "            pandas_df[col] = pandas_df[col].dt.strftime('%Y-%m-%d')\n",
    "    \n",
    "    return pandas_df"
   ]
  },
  {
   "cell_type": "markdown",
   "metadata": {},
   "source": [
    "## Configure Grid Column Definitions"
   ]
  },
  {
   "cell_type": "code",
   "execution_count": null,
   "metadata": {},
   "outputs": [],
   "source": [
    "def create_column_defs():\n",
    "    \"\"\"\n",
    "    Create column definitions for ipyaggrid based on config\n",
    "    \"\"\"\n",
    "    column_defs = []\n",
    "    \n",
    "    for col_name, col_config in COLUMN_CONFIG.items():\n",
    "        # Start with basic column definition\n",
    "        col_def = {\n",
    "            \"headerName\": col_name.replace('_', ' ').title(),\n",
    "            \"field\": col_name,\n",
    "            \"editable\": col_config.get(\"editable\", False),\n",
    "            \"sortable\": True,\n",
    "            \"filter\": True\n",
    "        }\n",
    "        \n",
    "        # Add special editor configurations if present\n",
    "        if \"cellEditor\" in col_config:\n",
    "            col_def[\"cellEditor\"] = col_config[\"cellEditor\"]\n",
    "        \n",
    "        if \"cellEditorParams\" in col_config:\n",
    "            col_def[\"cellEditorParams\"] = col_config[\"cellEditorParams\"]\n",
    "        \n",
    "        if \"valueFormatter\" in col_config:\n",
    "            col_def[\"valueFormatter\"] = col_config[\"valueFormatter\"]\n",
    "        \n",
    "        column_defs.append(col_def)\n",
    "    \n",
    "    return column_defs"
   ]
  },
  {
   "cell_type": "markdown",
   "metadata": {},
   "source": [
    "## Create and Display the Grid"
   ]
  },
  {
   "cell_type": "code",
   "execution_count": null,
   "metadata": {},
   "outputs": [],
   "source": [
    "# Load data\n",
    "df = load_table_data()\n",
    "\n",
    "# Create column definitions\n",
    "column_defs = create_column_defs()\n",
    "\n",
    "# Grid options configuration\n",
    "grid_options = {\n",
    "    \"columnDefs\": column_defs,\n",
    "    \"rowSelection\": \"multiple\",\n",
    "    \"enableCellTextSelection\": True,\n",
    "    \"ensureDomOrder\": True,  # Important for maintaining edit state\n",
    "    \"rowMultiSelectWithClick\": True,\n",
    "    \"rowDeselection\": True,\n",
    "    \"pagination\": True,\n",
    "    \"paginationPageSize\": 20,\n",
    "    \"stopEditingWhenCellsLoseFocus\": True,  # Important for capturing edits\n",
    "    \"enterMovesDown\": False,  # Prevents automatic navigation when pressing Enter\n",
    "    \"enterMovesDownAfterEdit\": False\n",
    "}\n",
    "\n",
    "# Create grid\n",
    "grid = Grid(\n",
    "    grid_data=df,\n",
    "    grid_options=grid_options,\n",
    "    column_defs=column_defs,\n",
    "    theme=\"ag-theme-balham\",  # or \"ag-theme-alpine\" for a different look\n",
    "    columns_fit=\"auto\",\n",
    "    index=False,  # Hide index column\n",
    "    quick_filter=True,  # Enable quick filtering\n",
    "    export_excel=True,  # Enable Excel export\n",
    "    export_csv=True,  # Enable CSV export\n",
    "    height=500,  # Set grid height\n",
    "    width=\"100%\"  # Set grid width\n",
    ")\n",
    "\n",
    "# Create a status message widget to show edit status\n",
    "status_widget = widgets.HTML(\n",
    "    value=\"<div style='padding:10px;color:#666;'>Grid ready. Make changes and click 'Save Changes' when done.</div>\"\n",
    ")\n",
    "\n",
    "# Create a button to save changes\n",
    "save_button = widgets.Button(\n",
    "    description='Save Changes',\n",
    "    button_style='success',\n",
    "    icon='save'\n",
    ")\n",
    "\n",
    "# Create a button to reload data\n",
    "reload_button = widgets.Button(\n",
    "    description='Reload Data',\n",
    "    button_style='info',\n",
    "    icon='refresh'\n",
    ")\n",
    "\n",
    "# Button container for layout\n",
    "button_container = widgets.HBox([save_button, reload_button])\n",
    "\n",
    "# Display all widgets\n",
    "display(button_container, grid, status_widget)"
   ]
  },
  {
   "cell_type": "markdown",
   "metadata": {},
   "source": [
    "## Handle Grid Events and Save Changes"
   ]
  },
  {
   "cell_type": "code",
   "execution_count": null,
   "metadata": {},
   "outputs": [],
   "source": [
    "# Variable to store edited data\n",
    "edited_data = []\n",
    "\n",
    "# Function to handle cell value changes\n",
    "def on_cell_changed(change):\n",
    "    try:\n",
    "        if change and 'new' in change and change['new']:\n",
    "            # Extract cell change information\n",
    "            cell_change = change['new']\n",
    "            \n",
    "            # Add to edited data list\n",
    "            edited_data.append(cell_change)\n",
    "            \n",
    "            # Update status message\n",
    "            status_widget.value = f\"<div style='padding:10px;color:#008800;'>Cell edited: {cell_change['field']} = {cell_change['value']} (row {cell_change['rowIndex']})</div>\"\n",
    "            \n",
    "            # Print for debugging\n",
    "            print(f\"Cell edited: {cell_change}\")\n",
    "    except Exception as e:\n",
    "        status_widget.value = f\"<div style='padding:10px;color:#cc0000;'>Error capturing edit: {str(e)}</div>\"\n",
    "        print(f\"Error: {str(e)}\")\n",
    "\n",
    "# Register the callback for cell value changes\n",
    "grid.observe(on_cell_changed, names='cell_changed')"
   ]
  },
  {
   "cell_type": "code",
   "execution_count": null,
   "metadata": {},
   "outputs": [],
   "source": [
    "# Function to save changes back to the Databricks table\n",
    "def save_changes(button):\n",
    "    try:\n",
    "        status_widget.value = \"<div style='padding:10px;color:#0066cc;'>Processing changes...</div>\"\n",
    "        \n",
    "        # First, get the current grid data (this is the workaround for widget sync issues)\n",
    "        grid_data = grid.get_grid_data()\n",
    "        \n",
    "        if len(edited_data) == 0:\n",
    "            status_widget.value = \"<div style='padding:10px;color:#cc6600;'>No changes detected to save.</div>\"\n",
    "            return\n",
    "        \n",
    "        # Create a pandas DataFrame from the grid data\n",
    "        updated_df = pd.DataFrame(grid_data)\n",
    "        \n",
    "        # Convert pandas DataFrame to Spark DataFrame\n",
    "        updated_spark_df = spark.createDataFrame(updated_df)\n",
    "        \n",
    "        # Create a temporary view of the updated data\n",
    "        updated_spark_df.createOrReplaceTempView(\"updated_data_view\")\n",
    "        \n",
    "        # CRITICAL: Implement appropriate update logic based on your table structure\n",
    "        # This example uses a merge pattern assuming 'id' is the primary key\n",
    "        # Adjust according to your specific table schema and requirements\n",
    "        \n",
    "        merge_sql = f\"\"\"\n",
    "        MERGE INTO {TABLE_NAME} AS target\n",
    "        USING updated_data_view AS source\n",
    "        ON target.id = source.id\n",
    "        WHEN MATCHED THEN UPDATE SET\n",
    "            {', '.join([f'target.{col} = source.{col}' for col in COLUMNS_TO_INCLUDE if col != 'id' and COLUMN_CONFIG[col].get('editable', False)])}\n",
    "        \"\"\"\n",
    "        \n",
    "        # Execute the merge operation\n",
    "        spark.sql(merge_sql)\n",
    "        \n",
    "        # Clear edited data list\n",
    "        edited_data.clear()\n",
    "        \n",
    "        # Update status message\n",
    "        status_widget.value = f\"<div style='padding:10px;color:#008800;'>Changes saved successfully at {datetime.now().strftime('%Y-%m-%d %H:%M:%S')}</div>\"\n",
    "        \n",
    "    except Exception as e:\n",
    "        status_widget.value = f\"<div style='padding:10px;color:#cc0000;'>Error saving changes: {str(e)}</div>\"\n",
    "        print(f\"Error saving changes: {str(e)}\")\n",
    "\n",
    "# Register button click handlers\n",
    "save_button.on_click(save_changes)"
   ]
  },
  {
   "cell_type": "code",
   "execution_count": null,
   "metadata": {},
   "outputs": [],
   "source": [
    "# Function to reload data\n",
    "def reload_data(button):\n",
    "    try:\n",
    "        status_widget.value = \"<div style='padding:10px;color:#0066cc;'>Reloading data...</div>\"\n",
    "        \n",
    "        # Reload data from database\n",
    "        new_df = load_table_data()\n",
    "        \n",
    "        # Update grid with new data\n",
    "        grid.grid_data = new_df\n",
    "        \n",
    "        # Clear edited data list\n",
    "        edited_data.clear()\n",
    "        \n",
    "        # Update status message\n",
    "        status_widget.value = f\"<div style='padding:10px;color:#008800;'>Data reloaded successfully at {datetime.now().strftime('%Y-%m-%d %H:%M:%S')}</div>\"\n",
    "        \n",
    "    except Exception as e:\n",
    "        status_widget.value = f\"<div style='padding:10px;color:#cc0000;'>Error reloading data: {str(e)}</div>\"\n",
    "        print(f\"Error reloading data: {str(e)}\")\n",
    "\n",
    "# Register reload button handler\n",
    "reload_button.on_click(reload_data)"
   ]
  },
  {
   "cell_type": "markdown",
   "metadata": {},
   "source": [
    "## Improved Widget Sync with Custom JavaScript (Optional)"
   ]
  },
  {
   "cell_type": "code",
   "execution_count": null,
   "metadata": {},
   "outputs": [],
   "source": [
    "# This cell adds custom JavaScript to help with synchronization\n",
    "# It's optional but can help with browser-specific issues\n",
    "\n",
    "sync_js = \"\"\"\n",
    "require(['base/js/namespace'], function(Jupyter) {\n",
    "    // Force kernel to process pending messages after cell edits\n",
    "    Jupyter.notebook.events.on('edit_mode.Cell', function() {\n",
    "        setTimeout(function() {\n",
    "            Jupyter.notebook.kernel.execute('import time; time.sleep(0.1)');  \n",
    "        }, 100);\n",
    "    });\n",
    "    \n",
    "    // Add helpful notification\n",
    "    console.log('Grid synchronization helper loaded.');\n",
    "});\n",
    "\"\"\"\n",
    "\n",
    "display(Javascript(sync_js))\n",
    "\n",
    "# Add HTML to improve widget rendering\n",
    "display(HTML(\"\"\"\n",
    "<style>\n",
    ".ag-theme-balham .ag-cell-focus, .ag-theme-alpine .ag-cell-focus {\n",
    "    border: 1px solid #2196F3 !important;\n",
    "    outline: none;\n",
    "}\n",
    ".ag-theme-balham .ag-cell-edited, .ag-theme-alpine .ag-cell-edited {\n",
    "    background-color: rgba(255, 235, 59, 0.1) !important;\n",
    "}\n",
    "</style>\n",
    "\"\"\"))"
   ]
  },
  {
   "cell_type": "markdown",
   "metadata": {},
   "source": [
    "## Troubleshooting Guide\n",
    "\n",
    "If you encounter issues with the grid, try the following solutions:\n",
    "\n",
    "### Widget Sync Issues\n",
    "- **Problem**: Changes made in the grid aren't being captured by the Python backend\n",
    "- **Solution**: Use the manual save approach implemented above, which retrieves the entire grid data\n",
    "\n",
    "### Browser Compatibility\n",
    "- Chrome and Firefox work best with ipyaggrid\n",
    "- If using Safari, make sure to enable all cookies and JavaScript\n",
    "\n",
    "### Date Picker Issues\n",
    "- If date picker doesn't work, try using the text input with YYYY-MM-DD format\n",
    "\n",
    "### Performance Issues\n",
    "- For large tables, add limit to the data loading function\n",
    "- Consider implementing server-side pagination\n",
    "\n",
    "### Cell Edit Not Registering\n",
    "- Click outside the cell after editing\n",
    "- Press Enter after making changes\n",
    "- Try clicking the 'Save Changes' button to force data retrieval"
   ]
  }
 ],
 "metadata": {
  "kernelspec": {
   "display_name": "Python 3",
   "language": "python",
   "name": "python3"
  },
  "language_info": {
   "codemirror_mode": {
    "name": "ipython",
    "version": 3
   },
   "file_extension": ".py",
   "mimetype": "text/x-python",
   "name": "python",
   "nbconvert_exporter": "python",
   "pygments_lexer": "ipython3",
   "version": "3.8.10"
  }
 },
 "nbformat": 4,
 "nbformat_minor": 4
}
